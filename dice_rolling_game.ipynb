{
  "nbformat": 4,
  "nbformat_minor": 0,
  "metadata": {
    "colab": {
      "name": "Untitled9.ipynb",
      "provenance": [],
      "authorship_tag": "ABX9TyNfsY1yeLl+xZuTjZ34WHv8"
    },
    "kernelspec": {
      "name": "python3",
      "display_name": "Python 3"
    }
  },
  "cells": [
    {
      "cell_type": "code",
      "metadata": {
        "id": "i91kAcEApmS6"
      },
      "source": [
        "import pandas as pd\n",
        "import numpy as np"
      ],
      "execution_count": 1,
      "outputs": []
    },
    {
      "cell_type": "markdown",
      "metadata": {
        "id": "Mzo2LODopw10"
      },
      "source": [
        "### Two dice rolling game\n",
        "In this game, there are two dices and our task is to calculate the sum of their face value. "
      ]
    },
    {
      "cell_type": "code",
      "metadata": {
        "id": "P2AxuNk4pv2e",
        "outputId": "1d9a31e3-2436-47ea-c042-59abe081dd27",
        "colab": {
          "base_uri": "https://localhost:8080/",
          "height": 35
        }
      },
      "source": [
        "face_values = pd.DataFrame(list(range(1,7)))\n",
        "possible_outcome = face_values.sample(2,replace=True).sum().loc[0] #2 indicates two dices sample\n",
        "print(possible_outcome,'is the sum of 2 dices')"
      ],
      "execution_count": 6,
      "outputs": [
        {
          "output_type": "stream",
          "text": [
            "5 is the sum of 2 dices\n"
          ],
          "name": "stdout"
        }
      ]
    },
    {
      "cell_type": "code",
      "metadata": {
        "id": "FKW8Bi7TqMBy",
        "outputId": "1d6f98df-3cd7-4615-8503-5134f010fdd0",
        "colab": {
          "base_uri": "https://localhost:8080/",
          "height": 35
        }
      },
      "source": [
        "print([face_values.sample(2,replace=True).sum().loc[0] for i in range(10)],'are the observation of rolling two dices 10 times')"
      ],
      "execution_count": 9,
      "outputs": [
        {
          "output_type": "stream",
          "text": [
            "[5, 6, 7, 4, 7, 10, 5, 3, 8, 9] are the observation of rolling two dices 10 times\n"
          ],
          "name": "stdout"
        }
      ]
    },
    {
      "cell_type": "code",
      "metadata": {
        "id": "xZ_M6N2TrL3F"
      },
      "source": [
        ""
      ],
      "execution_count": null,
      "outputs": []
    }
  ]
}