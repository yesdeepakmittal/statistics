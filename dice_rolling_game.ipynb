{
  "nbformat": 4,
  "nbformat_minor": 0,
  "metadata": {
    "colab": {
      "name": "Untitled9.ipynb",
      "provenance": [],
      "authorship_tag": "ABX9TyPAO+y+awJzkdd9rKkzi4Bq"
    },
    "kernelspec": {
      "name": "python3",
      "display_name": "Python 3"
    }
  },
  "cells": [
    {
      "cell_type": "code",
      "metadata": {
        "id": "i91kAcEApmS6"
      },
      "source": [
        "import pandas as pd"
      ],
      "execution_count": 3,
      "outputs": []
    },
    {
      "cell_type": "markdown",
      "metadata": {
        "id": "Mzo2LODopw10"
      },
      "source": [
        "### Two dice rolling game\n",
        "* In this game, there are two dices and our task is to calculate the sum of their face values. \n",
        "* In this notebook, we will observe the outcome of random values returned by the dices"
      ]
    },
    {
      "cell_type": "code",
      "metadata": {
        "id": "P2AxuNk4pv2e",
        "outputId": "eedf54f2-cfed-449e-d9a8-1b14bc57abf5",
        "colab": {
          "base_uri": "https://localhost:8080/",
          "height": 35
        }
      },
      "source": [
        "face_values = pd.DataFrame(list(range(1,7)))\n",
        "possible_outcome = face_values.sample(2,replace=True).sum().loc[0] #2 indicates two dices sample\n",
        "print(possible_outcome,'is the sum of 2 dices')"
      ],
      "execution_count": 4,
      "outputs": [
        {
          "output_type": "stream",
          "text": [
            "8 is the sum of 2 dices\n"
          ],
          "name": "stdout"
        }
      ]
    },
    {
      "cell_type": "code",
      "metadata": {
        "id": "FKW8Bi7TqMBy",
        "outputId": "a187b10b-9b2b-4782-fd8c-386780af1a28",
        "colab": {
          "base_uri": "https://localhost:8080/",
          "height": 35
        }
      },
      "source": [
        "print([face_values.sample(2,replace=True).sum().loc[0] for i in range(10)],'are the observation of rolling two dices 10 times')"
      ],
      "execution_count": 5,
      "outputs": [
        {
          "output_type": "stream",
          "text": [
            "[7, 8, 7, 12, 3, 11, 5, 11, 9, 4] are the observation of rolling two dices 10 times\n"
          ],
          "name": "stdout"
        }
      ]
    }
  ]
}